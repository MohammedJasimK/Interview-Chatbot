{
 "cells": [
  {
   "cell_type": "code",
   "execution_count": 1,
   "id": "8e320444-b22b-4649-a925-f0f85200533a",
   "metadata": {},
   "outputs": [],
   "source": [
    "import pandas as pd\n",
    "import numpy as np\n",
    "import pickle\n",
    "import random\n",
    "import string\n",
    "from sklearn.feature_extraction.text import TfidfVectorizer\n",
    "from sklearn.metrics.pairwise import cosine_similarity"
   ]
  },
  {
   "cell_type": "code",
   "execution_count": 2,
   "id": "5349e5fa-557c-4d93-8609-d866e0f68e48",
   "metadata": {},
   "outputs": [],
   "source": [
    "# Load Dataset\n",
    "df = pd.read_csv(r\"C:\\Users\\jasim\\Data Science\\My Project\\Interview Chatbot\\data\\Q&A_dataset.csv\")"
   ]
  },
  {
   "cell_type": "code",
   "execution_count": 3,
   "id": "88317723-f506-46ed-8173-1655d08f1d24",
   "metadata": {},
   "outputs": [
    {
     "data": {
      "text/html": [
       "<div>\n",
       "<style scoped>\n",
       "    .dataframe tbody tr th:only-of-type {\n",
       "        vertical-align: middle;\n",
       "    }\n",
       "\n",
       "    .dataframe tbody tr th {\n",
       "        vertical-align: top;\n",
       "    }\n",
       "\n",
       "    .dataframe thead th {\n",
       "        text-align: right;\n",
       "    }\n",
       "</style>\n",
       "<table border=\"1\" class=\"dataframe\">\n",
       "  <thead>\n",
       "    <tr style=\"text-align: right;\">\n",
       "      <th></th>\n",
       "      <th>Topic</th>\n",
       "      <th>Difficulty</th>\n",
       "      <th>Question</th>\n",
       "      <th>Answer</th>\n",
       "    </tr>\n",
       "  </thead>\n",
       "  <tbody>\n",
       "    <tr>\n",
       "      <th>0</th>\n",
       "      <td>python</td>\n",
       "      <td>beginner</td>\n",
       "      <td>What are Python’s main data types?</td>\n",
       "      <td>int (integers),  float (decimal numbers),  str...</td>\n",
       "    </tr>\n",
       "    <tr>\n",
       "      <th>1</th>\n",
       "      <td>python</td>\n",
       "      <td>beginner</td>\n",
       "      <td>What is the difference between a list and a tu...</td>\n",
       "      <td>List :  Mutable (Can be changed after creation...</td>\n",
       "    </tr>\n",
       "    <tr>\n",
       "      <th>2</th>\n",
       "      <td>python</td>\n",
       "      <td>beginner</td>\n",
       "      <td>What are mutable and immutable data types? Giv...</td>\n",
       "      <td>Mutable:  Objects whose state (value) can be m...</td>\n",
       "    </tr>\n",
       "    <tr>\n",
       "      <th>3</th>\n",
       "      <td>python</td>\n",
       "      <td>beginner</td>\n",
       "      <td>How do you check the data type of a variable i...</td>\n",
       "      <td>Use the built-in type() function. x = 10.5 y =...</td>\n",
       "    </tr>\n",
       "    <tr>\n",
       "      <th>4</th>\n",
       "      <td>python</td>\n",
       "      <td>beginner</td>\n",
       "      <td>What is a Python dictionary, and how do you ac...</td>\n",
       "      <td>A Python dictionary is an unordered collection...</td>\n",
       "    </tr>\n",
       "  </tbody>\n",
       "</table>\n",
       "</div>"
      ],
      "text/plain": [
       "    Topic Difficulty                                           Question  \\\n",
       "0  python   beginner                 What are Python’s main data types?   \n",
       "1  python   beginner  What is the difference between a list and a tu...   \n",
       "2  python   beginner  What are mutable and immutable data types? Giv...   \n",
       "3  python   beginner  How do you check the data type of a variable i...   \n",
       "4  python   beginner  What is a Python dictionary, and how do you ac...   \n",
       "\n",
       "                                              Answer  \n",
       "0  int (integers),  float (decimal numbers),  str...  \n",
       "1  List :  Mutable (Can be changed after creation...  \n",
       "2  Mutable:  Objects whose state (value) can be m...  \n",
       "3  Use the built-in type() function. x = 10.5 y =...  \n",
       "4  A Python dictionary is an unordered collection...  "
      ]
     },
     "execution_count": 3,
     "metadata": {},
     "output_type": "execute_result"
    }
   ],
   "source": [
    "df.head()"
   ]
  },
  {
   "cell_type": "code",
   "execution_count": 4,
   "id": "658ea122-568e-4d25-965b-0f7d0523be9a",
   "metadata": {},
   "outputs": [],
   "source": [
    "# Basic Preprocessing\n",
    "def clean_text(text):\n",
    "    text = text.lower()\n",
    "    text = text.translate(str.maketrans('', '', string.punctuation))\n",
    "    return text"
   ]
  },
  {
   "cell_type": "code",
   "execution_count": 5,
   "id": "0e92ddb1-d1a3-4566-815c-5828e272ee38",
   "metadata": {},
   "outputs": [],
   "source": [
    "df['clean_answer'] = df['Answer'].apply(clean_text)"
   ]
  },
  {
   "cell_type": "code",
   "execution_count": 6,
   "id": "2d59bdb1-ea28-44e9-8c7c-41bba5687bae",
   "metadata": {},
   "outputs": [
    {
     "data": {
      "text/html": [
       "<div>\n",
       "<style scoped>\n",
       "    .dataframe tbody tr th:only-of-type {\n",
       "        vertical-align: middle;\n",
       "    }\n",
       "\n",
       "    .dataframe tbody tr th {\n",
       "        vertical-align: top;\n",
       "    }\n",
       "\n",
       "    .dataframe thead th {\n",
       "        text-align: right;\n",
       "    }\n",
       "</style>\n",
       "<table border=\"1\" class=\"dataframe\">\n",
       "  <thead>\n",
       "    <tr style=\"text-align: right;\">\n",
       "      <th></th>\n",
       "      <th>Topic</th>\n",
       "      <th>Difficulty</th>\n",
       "      <th>Question</th>\n",
       "      <th>Answer</th>\n",
       "      <th>clean_answer</th>\n",
       "    </tr>\n",
       "  </thead>\n",
       "  <tbody>\n",
       "    <tr>\n",
       "      <th>0</th>\n",
       "      <td>python</td>\n",
       "      <td>beginner</td>\n",
       "      <td>What are Python’s main data types?</td>\n",
       "      <td>int (integers),  float (decimal numbers),  str...</td>\n",
       "      <td>int integers  float decimal numbers  str strin...</td>\n",
       "    </tr>\n",
       "    <tr>\n",
       "      <th>1</th>\n",
       "      <td>python</td>\n",
       "      <td>beginner</td>\n",
       "      <td>What is the difference between a list and a tu...</td>\n",
       "      <td>List :  Mutable (Can be changed after creation...</td>\n",
       "      <td>list   mutable can be changed after creation a...</td>\n",
       "    </tr>\n",
       "    <tr>\n",
       "      <th>2</th>\n",
       "      <td>python</td>\n",
       "      <td>beginner</td>\n",
       "      <td>What are mutable and immutable data types? Giv...</td>\n",
       "      <td>Mutable:  Objects whose state (value) can be m...</td>\n",
       "      <td>mutable  objects whose state value can be modi...</td>\n",
       "    </tr>\n",
       "    <tr>\n",
       "      <th>3</th>\n",
       "      <td>python</td>\n",
       "      <td>beginner</td>\n",
       "      <td>How do you check the data type of a variable i...</td>\n",
       "      <td>Use the built-in type() function. x = 10.5 y =...</td>\n",
       "      <td>use the builtin type function x  105 y  1 2 3 ...</td>\n",
       "    </tr>\n",
       "    <tr>\n",
       "      <th>4</th>\n",
       "      <td>python</td>\n",
       "      <td>beginner</td>\n",
       "      <td>What is a Python dictionary, and how do you ac...</td>\n",
       "      <td>A Python dictionary is an unordered collection...</td>\n",
       "      <td>a python dictionary is an unordered collection...</td>\n",
       "    </tr>\n",
       "  </tbody>\n",
       "</table>\n",
       "</div>"
      ],
      "text/plain": [
       "    Topic Difficulty                                           Question  \\\n",
       "0  python   beginner                 What are Python’s main data types?   \n",
       "1  python   beginner  What is the difference between a list and a tu...   \n",
       "2  python   beginner  What are mutable and immutable data types? Giv...   \n",
       "3  python   beginner  How do you check the data type of a variable i...   \n",
       "4  python   beginner  What is a Python dictionary, and how do you ac...   \n",
       "\n",
       "                                              Answer  \\\n",
       "0  int (integers),  float (decimal numbers),  str...   \n",
       "1  List :  Mutable (Can be changed after creation...   \n",
       "2  Mutable:  Objects whose state (value) can be m...   \n",
       "3  Use the built-in type() function. x = 10.5 y =...   \n",
       "4  A Python dictionary is an unordered collection...   \n",
       "\n",
       "                                        clean_answer  \n",
       "0  int integers  float decimal numbers  str strin...  \n",
       "1  list   mutable can be changed after creation a...  \n",
       "2  mutable  objects whose state value can be modi...  \n",
       "3  use the builtin type function x  105 y  1 2 3 ...  \n",
       "4  a python dictionary is an unordered collection...  "
      ]
     },
     "execution_count": 6,
     "metadata": {},
     "output_type": "execute_result"
    }
   ],
   "source": [
    "df.head()"
   ]
  },
  {
   "cell_type": "code",
   "execution_count": 7,
   "id": "91c4491a-e4ac-473f-9b7f-f0ec75827c92",
   "metadata": {},
   "outputs": [],
   "source": [
    "vectorizer = TfidfVectorizer()\n",
    "tfidf_matrix = vectorizer.fit_transform(df['clean_answer'])"
   ]
  },
  {
   "cell_type": "code",
   "execution_count": 8,
   "id": "d7b17adb-815b-4eb2-824e-b390bc5b320a",
   "metadata": {},
   "outputs": [],
   "source": [
    "def get_question(topic=None, difficulty=None):\n",
    "    filtered = df\n",
    "    if topic:\n",
    "        filtered = filtered[filtered['Topic'].str.lower() == topic.lower()]\n",
    "    if difficulty:\n",
    "        filtered = filtered[filtered['Difficulty'].str.lower() == difficulty.lower()]\n",
    "    if filtered.empty:\n",
    "        return None\n",
    "    row = filtered.sample(1).iloc[0]\n",
    "    return row['Question'], row['Answer']"
   ]
  },
  {
   "cell_type": "code",
   "execution_count": 9,
   "id": "12b1af7f-8280-4ed1-94a9-d8adf78db60e",
   "metadata": {},
   "outputs": [],
   "source": [
    "def evaluate_answer(user_answer, correct_answer):\n",
    "    user_clean = clean_text(user_answer)\n",
    "    answers = [user_clean, clean_text(correct_answer)]\n",
    "    vectors = vectorizer.transform(answers)\n",
    "    sim = cosine_similarity(vectors[0], vectors[1])[0][0]\n",
    "    if sim > 0.75:\n",
    "        return f\" Correct! (Similarity: {sim:.2f})\"\n",
    "    elif sim > 0.4:\n",
    "        return f\" Almost correct! (Similarity: {sim:.2f})\"\n",
    "    else:\n",
    "        return f\" Incorrect. Try again! (Similarity: {sim:.2f})\""
   ]
  },
  {
   "cell_type": "code",
   "execution_count": 10,
   "id": "c2e3022c-fcae-48e0-8686-9ed8eb75a802",
   "metadata": {},
   "outputs": [],
   "source": [
    "with open(r\"C:\\Users\\jasim\\Data Science\\My Project\\Interview Chatbot\\model\\vectorizer.pkl\", \"wb\") as f:\n",
    "    pickle.dump(vectorizer, f)"
   ]
  },
  {
   "cell_type": "code",
   "execution_count": 11,
   "id": "baded17e-a6a0-45c8-98f5-bbe4bef90bc6",
   "metadata": {},
   "outputs": [],
   "source": [
    "with open(r\"C:\\Users\\jasim\\Data Science\\My Project\\Interview Chatbot\\model\\qa_data.pkl\", \"wb\") as f:\n",
    "    pickle.dump(df, f)"
   ]
  },
  {
   "cell_type": "code",
   "execution_count": null,
   "id": "d362b7c6-010d-4953-af5c-141dcfdc18fa",
   "metadata": {},
   "outputs": [],
   "source": []
  }
 ],
 "metadata": {
  "kernelspec": {
   "display_name": "Python 3 (ipykernel)",
   "language": "python",
   "name": "python3"
  },
  "language_info": {
   "codemirror_mode": {
    "name": "ipython",
    "version": 3
   },
   "file_extension": ".py",
   "mimetype": "text/x-python",
   "name": "python",
   "nbconvert_exporter": "python",
   "pygments_lexer": "ipython3",
   "version": "3.12.10"
  }
 },
 "nbformat": 4,
 "nbformat_minor": 5
}
